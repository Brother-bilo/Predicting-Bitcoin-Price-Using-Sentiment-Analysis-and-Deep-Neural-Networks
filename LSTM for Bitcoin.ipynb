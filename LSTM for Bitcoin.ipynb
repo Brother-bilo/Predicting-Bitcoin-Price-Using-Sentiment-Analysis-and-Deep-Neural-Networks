{
 "cells": [
  {
   "cell_type": "code",
   "execution_count": 48,
   "metadata": {},
   "outputs": [],
   "source": [
    "import numpy as np\n",
    "import pandas as pd\n",
    "import torch\n",
    "import torch.nn as nn\n",
    "import torch.optim as optim\n",
    "import torch.utils.data as data\n",
    "import matplotlib.pyplot as plt\n",
    "import random\n",
    "import json\n",
    "from sklearn.preprocessing import MinMaxScaler"
   ]
  },
  {
   "cell_type": "markdown",
   "metadata": {},
   "source": [
    "Set seeds"
   ]
  },
  {
   "cell_type": "code",
   "execution_count": 49,
   "metadata": {},
   "outputs": [],
   "source": [
    "seed_value = 52\n",
    "torch.manual_seed(seed_value)\n",
    "random.seed(seed_value)\n",
    "np.random.seed(seed_value)"
   ]
  },
  {
   "attachments": {},
   "cell_type": "markdown",
   "metadata": {},
   "source": [
    "## Prepare Data \n"
   ]
  },
  {
   "cell_type": "markdown",
   "metadata": {},
   "source": [
    "Additionally, visualize the data"
   ]
  },
  {
   "cell_type": "code",
   "execution_count": 50,
   "metadata": {},
   "outputs": [],
   "source": [
    "#Load in data\n",
    "with open('config.json') as f:\n",
    "    config = json.load(f)\n",
    "\n",
    "data_path = config[\"data_path\"]\n",
    "\n",
    "df = pd.read_csv(data_path)\n",
    "\n",
    "ts = df[\"Close\"].values"
   ]
  },
  {
   "cell_type": "code",
   "execution_count": null,
   "metadata": {},
   "outputs": [],
   "source": [
    "start_date = '2022-01-01'\n",
    "end_date = '2022-12-31'\n",
    "date_range = pd.date_range(start=start_date, end=end_date)\n",
    "\n",
    "plt.figure(figsize=(10, 6))\n",
    "plt.plot(date_range, ts)\n",
    "plt.title('Closing Price of Bitcoin (2022)')\n",
    "plt.xlabel('Date')\n",
    "plt.ylabel('Price in Dollars')\n",
    "plt.show()"
   ]
  },
  {
   "attachments": {},
   "cell_type": "markdown",
   "metadata": {},
   "source": [
    "### Train-Validation-Test Split"
   ]
  },
  {
   "cell_type": "markdown",
   "metadata": {},
   "source": [
    "Check dimensions"
   ]
  },
  {
   "cell_type": "code",
   "execution_count": null,
   "metadata": {},
   "outputs": [],
   "source": [
    "print(ts.shape)\n",
    "\n",
    "ts = ts.reshape(365,1)\n",
    "print(ts.shape)"
   ]
  },
  {
   "cell_type": "code",
   "execution_count": null,
   "metadata": {},
   "outputs": [],
   "source": [
    "# train-test split for time series\n",
    "train_size = int(len(ts) * 0.60)\n",
    "train, rest = ts[:train_size], ts[train_size:]\n",
    "validation_size = int(len(rest) * 0.50)\n",
    "validation, test = rest[:validation_size], rest[validation_size:]\n",
    "\n",
    "print(len(train))\n",
    "print(len(validation))\n",
    "print(len(test))"
   ]
  },
  {
   "attachments": {},
   "cell_type": "markdown",
   "metadata": {},
   "source": [
    "### Create tensor dataset"
   ]
  },
  {
   "cell_type": "code",
   "execution_count": 58,
   "metadata": {},
   "outputs": [],
   "source": [
    "def create_dataset(dataset, lookback):\n",
    "    \"\"\"\n",
    "    Transform a time series into a prediction dataset\n",
    "    \n",
    "    Args:\n",
    "        dataset: A numpy array of time series, first dimension is the time steps\n",
    "        lookback: Size of window for prediction\n",
    "    \"\"\"\n",
    "    X = []\n",
    "    y = []\n",
    "    for i in range(len(dataset)-lookback):\n",
    "        inputs = dataset[i:i+lookback]\n",
    "        labels = dataset[i+lookback:i+lookback+1]\n",
    "        X.append(inputs)\n",
    "        y.append(labels)\n",
    "\n",
    "    X = np.array(X)\n",
    "    y = np.array(y)\n",
    "    return torch.tensor(X, dtype=torch.float32), torch.tensor(y, dtype=torch.float32)\n",
    "\n",
    "lookback = 12\n",
    "X_train, y_train = create_dataset(train, lookback=lookback)\n",
    "X_test, y_test = create_dataset(test, lookback=lookback)\n",
    "X_valid, y_valid = create_dataset(validation, lookback=lookback)"
   ]
  },
  {
   "cell_type": "markdown",
   "metadata": {},
   "source": [
    "Inspect shape of tensors"
   ]
  },
  {
   "cell_type": "code",
   "execution_count": null,
   "metadata": {},
   "outputs": [],
   "source": [
    "print(f\"X_train, y_train shape {X_train.shape, y_train.shape}\")\n",
    "print(f\"X_valid, y_valid shape: {X_valid.shape, y_valid.shape}\")\n",
    "print(f\"X_test, y_test shape: {X_test.shape, y_test.shape}\")"
   ]
  },
  {
   "attachments": {},
   "cell_type": "markdown",
   "metadata": {},
   "source": [
    "## LSTM Class\n"
   ]
  },
  {
   "cell_type": "code",
   "execution_count": 44,
   "metadata": {},
   "outputs": [],
   "source": [
    "class LSTM(nn.Module):\n",
    "    def __init__(self):\n",
    "        super().__init__()\n",
    "        self.lstm = nn.LSTM(input_size=1, hidden_size=110, num_layers=1, batch_first=True)\n",
    "        self.linear = nn.Linear(110, 1)\n",
    "    def forward(self, x):\n",
    "        x, _ = self.lstm(x)\n",
    "        x = self.linear(x[:, -1:, :])\n",
    "        return x"
   ]
  },
  {
   "attachments": {},
   "cell_type": "markdown",
   "metadata": {},
   "source": [
    "## Training\n"
   ]
  },
  {
   "cell_type": "code",
   "execution_count": null,
   "metadata": {},
   "outputs": [],
   "source": [
    "model = LSTM()\n",
    "optimizer = optim.Adam(model.parameters(), lr=0.10)\n",
    "loss_fn = nn.MSELoss()\n",
    "loader = data.DataLoader(data.TensorDataset(X_train, y_train), shuffle=True, batch_size=32)\n",
    "\n",
    "#Use GPU if available\n",
    "device = torch.device(\"cuda\" if torch.cuda.is_available() else \"cpu\")\n",
    "model.to(device)\n",
    "\n",
    "#Training configuration\n",
    "n_epochs = 1000\n",
    "\n",
    "train_losses = []\n",
    "valid_losses = []\n",
    "\n",
    "for epoch in range(n_epochs):\n",
    "    model.train()\n",
    "    for X_batch, y_batch in loader:\n",
    "        X_batch = X_batch.to(device)\n",
    "        y_batch = y_batch.to(device)\n",
    "\n",
    "\n",
    "        optimizer.zero_grad()\n",
    "        y_pred = model(X_batch)\n",
    "        loss = loss_fn(y_pred, y_batch)\n",
    "        loss.backward()\n",
    "        optimizer.step()\n",
    "    #Progress Printer\n",
    "    if epoch % 10 == 0:\n",
    "        model.eval()\n",
    "        with torch.no_grad():\n",
    "            y_pred = model(X_train)\n",
    "            train_rmse = torch.sqrt(loss_fn(y_pred, y_train))\n",
    "            \n",
    "            y_pred = model(X_valid)\n",
    "            valid_rmse = torch.sqrt(loss_fn(y_pred, y_valid))\n",
    "\n",
    "            train_losses.append(train_rmse.item())\n",
    "            valid_losses.append(valid_rmse.item())\n",
    "        print(f\"Epoch {epoch}: train RMSE {train_rmse:.4f}, validation RMSE {valid_rmse:.4f}\")   "
   ]
  },
  {
   "cell_type": "code",
   "execution_count": null,
   "metadata": {},
   "outputs": [],
   "source": [
    "plt.plot(train_losses, label=\"Training Loss\")\n",
    "plt.plot(valid_losses, label=\"Validation Loss\")\n",
    "plt.legend()\n",
    "plt.show()"
   ]
  },
  {
   "attachments": {},
   "cell_type": "markdown",
   "metadata": {},
   "source": [
    "## Plotting Results of LSTM\n",
    "\n"
   ]
  },
  {
   "cell_type": "code",
   "execution_count": null,
   "metadata": {},
   "outputs": [],
   "source": [
    "with torch.no_grad():\n",
    "    ##Shift train predictions for plotting\n",
    "    train_plot = np.ones_like(ts) * np.nan\n",
    "    y_hat_train = model(X_train)\n",
    "    rmse_train = torch.sqrt(loss_fn(y_hat_train, y_train))\n",
    "    y_hat_train = y_hat_train.reshape(train_size-lookback,1)\n",
    "    train_plot[lookback:train_size] = y_hat_train\n",
    "\n",
    "\n",
    "    valid_plot = np.ones_like(ts) * np.nan\n",
    "    y_hat_valid = model(X_valid)\n",
    "    rmse_valid = torch.sqrt(loss_fn(y_hat_valid, y_valid))\n",
    "    y_hat_valid = y_hat_valid.reshape(validation_size-lookback,1)\n",
    "    valid_plot[train_size+lookback:train_size+len(y_valid)+lookback] = y_hat_valid\n",
    "\n",
    "\n",
    "    test_plot = np.ones_like(ts) * np.nan\n",
    "    y_hat_test = model(X_test)\n",
    "    rmse_test = torch.sqrt(loss_fn(y_hat_test, y_test))\n",
    "    y_hat_test = y_hat_test.reshape(len(test)-lookback,1)\n",
    "    test_plot[train_size+lookback+len(y_valid)+lookback:] = y_hat_test\n",
    "\n",
    "print(f\"train RMSE {rmse_train:.4f}, validation RMSE {rmse_valid:.4f}, test RMSE {rmse_test:.4f}\")\n",
    "\n",
    "\n",
    "# plot\n",
    "plt.plot(log, label='Bitcoin series')\n",
    "plt.plot(train_plot, c='orange', label=\"Training Predictions\")\n",
    "plt.plot(valid_plot, c='green', label='Validation Predictions')\n",
    "plt.plot(test_plot, c='r', label='Test Predictions')\n",
    "plt.xlabel('Time Step')\n",
    "plt.title('Price of Bitcoin')\n",
    "plt.legend()\n",
    "plt.show()"
   ]
  },
  {
   "cell_type": "code",
   "execution_count": null,
   "metadata": {},
   "outputs": [],
   "source": [
    "plt.plot(y_hat_train, c='orange', label=\"Predicted Values\")\n",
    "plt.plot(y_train.squeeze(), label=\"Actual Train\")\n",
    "plt.axhline(y=0, color='black', linestyle='--')\n",
    "plt.xlabel('Time Step')\n",
    "plt.title('Log Returns of Bitcoin')\n",
    "plt.legend()\n",
    "plt.savefig(\"train.png\")\n",
    "plt.show()\n",
    "\n",
    "\n",
    "plt.plot(y_hat_valid, c='green', label=\"Predicted Values\")\n",
    "plt.plot(y_valid.squeeze(), label=\"Actual Y\")\n",
    "plt.axhline(y=0, color='black', linestyle='--')\n",
    "plt.xlabel('Time Step')\n",
    "plt.title('Log Returns of Bitcoin ')\n",
    "plt.legend()\n",
    "plt.savefig(\"valid.png\")\n",
    "plt.show()\n",
    "\n",
    "plt.plot(y_hat_test, c='red', label=\"Predicted Values\")\n",
    "plt.plot(y_test.squeeze(), label=\"Actual Y\")\n",
    "plt.axhline(y=0, color='black', linestyle='--')\n",
    "plt.xlabel('Time Step')\n",
    "plt.title('Log Returns of Bitcoin')\n",
    "plt.legend()\n",
    "plt.savefig(\"test.png\")\n",
    "plt.show()"
   ]
  }
 ],
 "metadata": {
  "kernelspec": {
   "display_name": "lstm-senior-project",
   "language": "python",
   "name": "python3"
  },
  "language_info": {
   "codemirror_mode": {
    "name": "ipython",
    "version": 3
   },
   "file_extension": ".py",
   "mimetype": "text/x-python",
   "name": "python",
   "nbconvert_exporter": "python",
   "pygments_lexer": "ipython3",
   "version": "3.10.11"
  },
  "orig_nbformat": 4
 },
 "nbformat": 4,
 "nbformat_minor": 2
}
