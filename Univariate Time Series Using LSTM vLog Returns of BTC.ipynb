{
 "cells": [
  {
   "cell_type": "code",
   "execution_count": null,
   "metadata": {},
   "outputs": [],
   "source": [
    "import numpy as np\n",
    "import pandas as pd\n",
    "import torch\n",
    "import torch.nn as nn\n",
    "import torch.optim as optim\n",
    "import torch.utils.data as data\n",
    "import matplotlib.pyplot as plt\n",
    "from statsmodels.graphics.tsaplots import plot_acf"
   ]
  },
  {
   "attachments": {},
   "cell_type": "markdown",
   "metadata": {},
   "source": [
    "## Prepare Data \n"
   ]
  },
  {
   "cell_type": "code",
   "execution_count": null,
   "metadata": {},
   "outputs": [],
   "source": [
    "#Load in data\n",
    "df = pd.read_csv(r\"C:\\Users\\Owner\\Documents\\Predicting Crypto Prices via Senitment Analysis\\BTC-USD.csv\")\n",
    "\n",
    "prices = df[\"Close\"].values\n",
    "\n",
    "dates = pd.date_range(start='2022-01-01', end='2022-12-31', freq='D')\n",
    "ts = pd.Series(prices, index=dates)\n",
    "\n",
    "plt.plot(ts)\n",
    "plt.legend(['Daily Price of Bitcoin'])\n",
    "plt.xlabel(\"Date\")\n",
    "plt.ylabel(\"Price in USD\")\n",
    "plt.show()"
   ]
  },
  {
   "attachments": {},
   "cell_type": "markdown",
   "metadata": {},
   "source": [
    "### Plot ACF "
   ]
  },
  {
   "cell_type": "code",
   "execution_count": null,
   "metadata": {},
   "outputs": [],
   "source": [
    "from statsmodels.graphics.tsaplots import plot_acf\n",
    "\n",
    "plot_acf(prices)\n",
    "plt.show()"
   ]
  },
  {
   "attachments": {},
   "cell_type": "markdown",
   "metadata": {},
   "source": [
    "### Create log returns of bitcoin price"
   ]
  },
  {
   "cell_type": "code",
   "execution_count": null,
   "metadata": {},
   "outputs": [],
   "source": [
    "from statsmodels.graphics.tsaplots import plot_pacf\n",
    "\n",
    "log_P = np.log(prices)\n",
    "\n",
    "#1st difference of ts to remove trend and seasonality\n",
    "diff = []\n",
    "for i in range(1, len(log_P)):\n",
    " value = log_P[i] - log_P[i - 1]\n",
    " diff.append(value)\n",
    "\n",
    "diff = np.array(diff)\n",
    "diff = diff.astype('float32')\n",
    "\n",
    "dates_4_diff = pd.date_range(start='2022-01-02', end='2022-12-31', freq='D')\n",
    "timeseries_indexed = pd.Series(diff, index=dates_4_diff)\n",
    "\n",
    "plt.plot(timeseries_indexed)\n",
    "plt.axhline(y=0, color='r', linestyle='--')\n",
    "plt.legend([\"Log Returns of Bitcoin\"])\n",
    "plt.xlabel(\"Date\")\n",
    "plt.show()\n",
    "\n",
    "plot_acf(diff)\n",
    "plt.show()\n",
    "\n",
    "plot_pacf(diff)\n",
    "plt.show()\n",
    "\n",
    "diff.resize((364,1)) #necessary to make sure the code works\n"
   ]
  },
  {
   "attachments": {},
   "cell_type": "markdown",
   "metadata": {},
   "source": [
    "### Use ADF Test to check for stationarity\n"
   ]
  },
  {
   "cell_type": "code",
   "execution_count": null,
   "metadata": {},
   "outputs": [],
   "source": [
    "from statsmodels.tsa.stattools import adfuller\n",
    "\n",
    "result = adfuller(diff)\n",
    "print('ADF Statistic: %f' % result[0])\n",
    "print('p-value: %f' % result[1])\n",
    "print('Critical Values:')\n",
    "for key, value in result[4].items():\n",
    " print('\\t%s: %.3f' % (key, value))\n"
   ]
  },
  {
   "attachments": {},
   "cell_type": "markdown",
   "metadata": {},
   "source": [
    "### Train-Test Split"
   ]
  },
  {
   "cell_type": "code",
   "execution_count": null,
   "metadata": {},
   "outputs": [],
   "source": [
    "# train-test split for time series\n",
    "train_size = int(len(diff) * 0.67)\n",
    "test_size = len(diff) - train_size\n",
    "train, test = diff[:train_size], diff[train_size:]\n",
    "\n",
    "print(len(train))\n",
    "print(len(test))"
   ]
  },
  {
   "attachments": {},
   "cell_type": "markdown",
   "metadata": {},
   "source": [
    "### Create tensor dataset"
   ]
  },
  {
   "cell_type": "code",
   "execution_count": null,
   "metadata": {},
   "outputs": [],
   "source": [
    "def create_dataset(dataset, lookback):\n",
    "    \"\"\"Transform a time series into a prediction dataset\n",
    "    \n",
    "    Args:\n",
    "        dataset: A numpy array of time series, first dimension is the time steps\n",
    "        lookback: Size of window for prediction\n",
    "    \"\"\"\n",
    "    X, y = [], []\n",
    "    for i in range(len(dataset)-lookback):\n",
    "        inputs = dataset[i:i+lookback]\n",
    "        labels = dataset[i+lookback:i+lookback+1]\n",
    "        X.append(inputs)\n",
    "        y.append(labels)\n",
    "    return torch.tensor(X), torch.tensor(y)\n",
    "\n",
    "lookback = 10\n",
    "X_train, y_train = create_dataset(train, lookback=lookback)\n",
    "X_test, y_test = create_dataset(test, lookback=lookback)"
   ]
  },
  {
   "attachments": {},
   "cell_type": "markdown",
   "metadata": {},
   "source": [
    "## LSTM Class\n"
   ]
  },
  {
   "cell_type": "code",
   "execution_count": null,
   "metadata": {},
   "outputs": [],
   "source": [
    "class LSTM(nn.Module):\n",
    "    def __init__(self):\n",
    "        super().__init__()\n",
    "        self.lstm = nn.LSTM(input_size=1, hidden_size=40, num_layers=1, batch_first=True)\n",
    "        self.linear = nn.Linear(40, 1)\n",
    "    def forward(self, x):\n",
    "        x, _ = self.lstm(x)\n",
    "        x = self.linear(x[:, -1, :])\n",
    "        return x"
   ]
  },
  {
   "attachments": {},
   "cell_type": "markdown",
   "metadata": {},
   "source": [
    "## Training\n"
   ]
  },
  {
   "cell_type": "code",
   "execution_count": null,
   "metadata": {},
   "outputs": [],
   "source": [
    "model = LSTM()\n",
    "optimizer = optim.Adam(model.parameters())\n",
    "loss_fn = nn.MSELoss()\n",
    "loader = data.DataLoader(data.TensorDataset(X_train, y_train), shuffle=False, batch_size=1)\n",
    "\n",
    "n_epochs = 300\n",
    "for epoch in range(n_epochs):\n",
    "    model.train()\n",
    "    for X_batch, y_batch in loader:\n",
    "        y_pred = model(X_batch)\n",
    "        y_pred = y_pred.unsqueeze(2)\n",
    "        loss = loss_fn(y_pred, y_batch)\n",
    "        optimizer.zero_grad()\n",
    "        loss.backward()\n",
    "        optimizer.step()\n",
    "    # Validation\n",
    "    if epoch % 100 != 0:\n",
    "        continue\n",
    "    model.eval()\n",
    "    with torch.no_grad():\n",
    "        y_pred = model(X_train)\n",
    "        y_pred = y_pred.unsqueeze(2)\n",
    "        train_rmse = np.sqrt(loss_fn(y_pred, y_train))\n",
    "        \n",
    "        y_pred = model(X_test)\n",
    "        y_pred = y_pred.unsqueeze(2)\n",
    "        test_rmse = np.sqrt(loss_fn(y_pred, y_test))\n",
    "    print(\"Epoch %d: train RMSE %.4f, test RMSE %.4f\" % (epoch, train_rmse, test_rmse))\n",
    " "
   ]
  },
  {
   "attachments": {},
   "cell_type": "markdown",
   "metadata": {},
   "source": [
    "## Plotting Results of LSTM\n",
    "\n"
   ]
  },
  {
   "cell_type": "code",
   "execution_count": null,
   "metadata": {},
   "outputs": [],
   "source": [
    "with torch.no_grad():\n",
    "    # shift train predictions for plotting\n",
    "    train_plot = np.ones_like(diff) * np.nan\n",
    "    y_hat_train = model(X_train)\n",
    "    train_plot[lookback:train_size] = y_hat_train\n",
    "    # shift test predictions for plotting\n",
    "    test_plot = np.ones_like(diff) * np.nan\n",
    "    y_hat_test = model(X_test)\n",
    "    test_plot[train_size+lookback:len(diff)] = y_hat_test\n",
    "\n",
    "\n",
    "# plot\n",
    "plt.plot(diff)\n",
    "plt.plot(train_plot, c='r', label=\"Training Y-Hats\")\n",
    "plt.plot(test_plot, c='g', label='Testing Y-Hats')\n",
    "plt.xlabel('Time Step')\n",
    "plt.title('Log Return of Bitcoin')\n",
    "plt.legend()\n",
    "#plt.axhline(y=0, color='r', linestyle='--')\n",
    "plt.show()\n",
    "#plt.savefig(\"365 forecast\")"
   ]
  },
  {
   "cell_type": "code",
   "execution_count": null,
   "metadata": {},
   "outputs": [],
   "source": [
    "plt.plot(y_hat_train, label=\"Predicted Values\")\n",
    "plt.plot(y_train.squeeze(), label=\"Actual Train\")\n",
    "plt.axhline(y=0, color='r', linestyle='--')\n",
    "plt.xlabel('Time Step')\n",
    "plt.title('Log Return of Bitcoin')\n",
    "plt.legend()\n",
    "plt.show()\n",
    "plt.savefig(\"Trained.png\")\n",
    "\n",
    "plt.plot(y_hat_test, label=\"Predicted Values\")\n",
    "plt.plot(y_test.squeeze(), label=\"Actual Test\")\n",
    "plt.axhline(y=0, color='r', linestyle='--')\n",
    "plt.xlabel('Time Step')\n",
    "plt.title('Log Return of Bitcoin')\n",
    "plt.legend()\n",
    "plt.savefig(\"Test.png\")\n",
    "plt.show()"
   ]
  }
 ],
 "metadata": {
  "kernelspec": {
   "display_name": "Python 3",
   "language": "python",
   "name": "python3"
  },
  "language_info": {
   "codemirror_mode": {
    "name": "ipython",
    "version": 3
   },
   "file_extension": ".py",
   "mimetype": "text/x-python",
   "name": "python",
   "nbconvert_exporter": "python",
   "pygments_lexer": "ipython3",
   "version": "3.10.11"
  },
  "orig_nbformat": 4
 },
 "nbformat": 4,
 "nbformat_minor": 2
}
